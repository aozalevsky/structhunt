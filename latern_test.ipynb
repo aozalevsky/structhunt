{
  "cells": [
    {
      "cell_type": "markdown",
      "metadata": {
        "id": "yIkO0-Hk9ixa"
      },
      "source": [
        "<h1>Setup Postgres</h1>\n",
        "We install postgres and its dev tools (necessary to build lantern from source). We also start postgres, and set up a user 'postgres' with password 'postgres' and create a database called 'ourdb'"
      ]
    },
    {
      "cell_type": "code",
      "execution_count": 19,
      "metadata": {
        "colab": {
          "base_uri": "https://localhost:8080/"
        },
        "id": "ngCJ6Vl59jGl",
        "outputId": "627558b5-a947-48bf-bb81-69357c802409"
      },
      "outputs": [
        {
          "name": "stdout",
          "output_type": "stream",
          "text": [
            " * Starting PostgreSQL 14 database server\n",
            "   ...done.\n",
            "ALTER ROLE\n",
            "ERROR:  database \"testdb\" is being accessed by other users\n",
            "DETAIL:  There is 1 other session using the database.\n",
            "ERROR:  database \"testdb\" already exists\n"
          ]
        }
      ],
      "source": [
        "# We install postgres and its dev tools\n",
        "!sudo apt-get -y -qq update\n",
        "!sudo apt-get -y -qq install postgresql postgresql-server-dev-all\n",
        "#  Start postgres\n",
        "!sudo service postgresql start\n",
        "\n",
        "# Create user, password, and db\n",
        "!sudo -u postgres psql -U postgres -c \"ALTER USER postgres PASSWORD 'postgres';\"\n",
        "!sudo -u postgres psql -U postgres -c 'DROP DATABASE IF EXISTS testdb;'\n",
        "!sudo -u postgres psql -U postgres -c 'CREATE DATABASE testdb;'"
      ]
    },
    {
      "cell_type": "markdown",
      "metadata": {
        "id": "g-pJ0_wg9jZn"
      },
      "source": []
    },
    {
      "cell_type": "code",
      "execution_count": 20,
      "metadata": {
        "colab": {
          "base_uri": "https://localhost:8080/"
        },
        "id": "ozgcSAhF-LTe",
        "outputId": "5d7e867b-f45f-4062-efdd-faf29f9d732e"
      },
      "outputs": [
        {
          "name": "stdout",
          "output_type": "stream",
          "text": [
            "Cloning into 'lantern'...\n",
            "remote: Enumerating objects: 2689, done.\u001b[K\n",
            "remote: Counting objects: 100% (1463/1463), done.\u001b[K\n",
            "remote: Compressing objects: 100% (582/582), done.\u001b[K\n",
            "remote: Total 2689 (delta 1105), reused 990 (delta 875), pack-reused 1226\u001b[K\n",
            "Receiving objects: 100% (2689/2689), 646.21 KiB | 2.47 MiB/s, done.\n",
            "Resolving deltas: 100% (1745/1745), done.\n",
            "Submodule 'third_party/hnswlib' (https://github.com/ngalstyan4/hnswlib) registered for path 'third_party/hnswlib'\n",
            "Submodule 'third_party/usearch' (https://github.com/ngalstyan4/usearch) registered for path 'third_party/usearch'\n",
            "Cloning into '/content/lantern/build/lantern/third_party/hnswlib'...\n",
            "remote: Enumerating objects: 1723, done.        \n",
            "remote: Counting objects: 100% (343/343), done.        \n",
            "remote: Compressing objects: 100% (43/43), done.        \n",
            "remote: Total 1723 (delta 314), reused 300 (delta 300), pack-reused 1380        \n",
            "Receiving objects: 100% (1723/1723), 528.17 KiB | 1.69 MiB/s, done.\n",
            "Resolving deltas: 100% (1096/1096), done.\n",
            "Cloning into '/content/lantern/build/lantern/third_party/usearch'...\n",
            "remote: Enumerating objects: 4574, done.        \n",
            "remote: Counting objects: 100% (792/792), done.        \n",
            "remote: Compressing objects: 100% (97/97), done.        \n",
            "remote: Total 4574 (delta 722), reused 697 (delta 694), pack-reused 3782        \n",
            "Receiving objects: 100% (4574/4574), 4.31 MiB | 8.30 MiB/s, done.\n",
            "Resolving deltas: 100% (2535/2535), done.\n",
            "Submodule path 'third_party/hnswlib': checked out 'a64a7626342ce6e78d7864e443186b9f1d78a8f8'\n",
            "Submodule path 'third_party/usearch': checked out '80450b9efd4add11b6da16cb447e3c61598196ab'\n",
            "Submodule 'fp16' (https://github.com/maratyszcza/fp16) registered for path 'third_party/usearch/fp16'\n",
            "Submodule 'robin-map' (https://github.com/tessil/robin-map) registered for path 'third_party/usearch/robin-map'\n",
            "Submodule 'simsimd' (https://github.com/ashvardanian/simsimd) registered for path 'third_party/usearch/simsimd'\n",
            "Cloning into '/content/lantern/build/lantern/third_party/usearch/fp16'...\n",
            "remote: Enumerating objects: 293, done.        \n",
            "remote: Counting objects: 100% (7/7), done.        \n",
            "remote: Compressing objects: 100% (7/7), done.        \n",
            "remote: Total 293 (delta 2), reused 3 (delta 0), pack-reused 286        \n",
            "Receiving objects: 100% (293/293), 108.77 KiB | 595.00 KiB/s, done.\n",
            "Resolving deltas: 100% (161/161), done.\n",
            "Cloning into '/content/lantern/build/lantern/third_party/usearch/robin-map'...\n",
            "remote: Enumerating objects: 1098, done.        \n",
            "remote: Counting objects: 100% (152/152), done.        \n",
            "remote: Compressing objects: 100% (57/57), done.        \n",
            "remote: Total 1098 (delta 105), reused 115 (delta 82), pack-reused 946        \n",
            "Receiving objects: 100% (1098/1098), 875.43 KiB | 2.73 MiB/s, done.\n",
            "Resolving deltas: 100% (752/752), done.\n",
            "Cloning into '/content/lantern/build/lantern/third_party/usearch/simsimd'...\n",
            "remote: Enumerating objects: 1947, done.        \n",
            "remote: Counting objects: 100% (366/366), done.        \n",
            "remote: Compressing objects: 100% (133/133), done.        \n",
            "remote: Total 1947 (delta 210), reused 300 (delta 201), pack-reused 1581        \n",
            "Receiving objects: 100% (1947/1947), 382.31 KiB | 1.49 MiB/s, done.\n",
            "Resolving deltas: 100% (1029/1029), done.\n",
            "Submodule path 'third_party/usearch/fp16': checked out '0a92994d729ff76a58f692d3028ca1b64b145d91'\n",
            "Submodule path 'third_party/usearch/robin-map': checked out '851a59e0e3063ee0e23089062090a73fd3de482d'\n",
            "Submodule path 'third_party/usearch/simsimd': checked out '74760c7d9a018bb6c959db75e7898186d79a9faa'\n",
            "/content/lantern/build/lantern\n",
            "/content/lantern/build/lantern/build\n",
            "/content/lantern/build/lantern/build\n",
            "\u001b[0mCMake Deprecation Warning at CMakeLists.txt:1 (cmake_minimum_required):\n",
            "  Compatibility with CMake < 3.5 will be removed from a future version of\n",
            "  CMake.\n",
            "\n",
            "  Update the VERSION argument <min> value or use a ...<max> suffix to tell\n",
            "  CMake that the project does not need compatibility with older versions.\n",
            "\n",
            "\u001b[0m\n",
            "-- The C compiler identification is GNU 11.4.0\n",
            "-- The CXX compiler identification is GNU 11.4.0\n",
            "-- Detecting C compiler ABI info\n",
            "-- Detecting C compiler ABI info - done\n",
            "-- Check for working C compiler: /usr/bin/cc - skipped\n",
            "-- Detecting C compile features\n",
            "-- Detecting C compile features - done\n",
            "-- Detecting CXX compiler ABI info\n",
            "-- Detecting CXX compiler ABI info - done\n",
            "-- Check for working CXX compiler: /usr/bin/c++ - skipped\n",
            "-- Detecting CXX compile features\n",
            "-- Detecting CXX compile features - done\n",
            "-- Build type: \n",
            "-- Found pg_config as /usr/bin/pg_config\n",
            "-- Found postgres binary at /usr/lib/postgresql/14/bin/postgres\n",
            "-- PostgreSQL version PostgreSQL 14.9 (Ubuntu 14.9-0ubuntu0.22.04.1) found\n",
            "-- PostgreSQL package library directory: /usr/lib/postgresql/14/lib\n",
            "-- PostgreSQL libraries: -lpgcommon -lpgport -lselinux -llz4 -lxslt -lxml2 -lpam -lssl -lcrypto -lgssapi_krb5 -lz -lreadline -lm\n",
            "-- PostgreSQL extension directory: /usr/share/postgresql/14/extension\n",
            "-- PostgreSQL linker options: -Wl,-Bsymbolic-functions;-flto=auto;-ffat-lto-objects;-flto=auto;-Wl,-z,relro;-Wl,-z,now;-L/usr/lib/llvm-14/lib;-Wl,--as-needed,\n",
            "-- PostgreSQL shared linker options: -Wl,-Bsymbolic-functions -flto=auto -ffat-lto-objects -flto=auto -Wl,-z,relro -Wl,-z,now -L/usr/lib/llvm-14/lib -Wl,--as-needed \n",
            "\u001b[0mCMake Deprecation Warning at third_party/usearch/c/CMakeLists.txt:1 (cmake_minimum_required):\n",
            "  Compatibility with CMake < 3.5 will be removed from a future version of\n",
            "  CMake.\n",
            "\n",
            "  Update the VERSION argument <min> value or use a ...<max> suffix to tell\n",
            "  CMake that the project does not need compatibility with older versions.\n",
            "\n",
            "\u001b[0m\n",
            "-- Failure points are enabled.\n",
            "-- Configuring done (0.5s)\n",
            "-- Generating done (0.0s)\n",
            "-- Build files have been written to: /content/lantern/build/lantern/build\n",
            "[  4%] \u001b[32mBuilding CXX object third_party/usearch/c/CMakeFiles/usearch_c.dir/lib.cpp.o\u001b[0m\n",
            "[  9%] \u001b[32m\u001b[1mLinking CXX static library ../../../libusearch_c.a\u001b[0m\n",
            "[  9%] Built target usearch_c\n",
            "[ 14%] \u001b[32mBuilding C object CMakeFiles/lantern.dir/src/hnsw.c.o\u001b[0m\n",
            "[ 19%] \u001b[32mBuilding C object CMakeFiles/lantern.dir/src/hnsw/build.c.o\u001b[0m\n",
            "[ 23%] \u001b[32mBuilding C object CMakeFiles/lantern.dir/src/hnsw/delete.c.o\u001b[0m\n",
            "[ 28%] \u001b[32mBuilding C object CMakeFiles/lantern.dir/src/hnsw/external_index.c.o\u001b[0m\n",
            "[ 33%] \u001b[32mBuilding C object CMakeFiles/lantern.dir/src/hnsw/extra_dirtied.c.o\u001b[0m\n",
            "[ 38%] \u001b[32mBuilding C object CMakeFiles/lantern.dir/src/hnsw/failure_point.c.o\u001b[0m\n",
            "[ 42%] \u001b[32mBuilding C object CMakeFiles/lantern.dir/src/hnsw/htab_cache.c.o\u001b[0m\n",
            "[ 47%] \u001b[32mBuilding C object CMakeFiles/lantern.dir/src/hnsw/insert.c.o\u001b[0m\n",
            "[ 52%] \u001b[32mBuilding C object CMakeFiles/lantern.dir/src/hnsw/options.c.o\u001b[0m\n",
            "[ 57%] \u001b[32mBuilding C object CMakeFiles/lantern.dir/src/hnsw/retriever.c.o\u001b[0m\n",
            "[ 61%] \u001b[32mBuilding C object CMakeFiles/lantern.dir/src/hnsw/scan.c.o\u001b[0m\n",
            "[ 66%] \u001b[32mBuilding C object CMakeFiles/lantern.dir/src/hnsw/utils.c.o\u001b[0m\n",
            "[ 71%] \u001b[32mBuilding C object CMakeFiles/lantern.dir/src/hnsw/validate_index.c.o\u001b[0m\n",
            "[ 76%] \u001b[32mBuilding C object CMakeFiles/lantern.dir/src/hooks/executor_start.c.o\u001b[0m\n",
            "[ 80%] \u001b[32mBuilding C object CMakeFiles/lantern.dir/src/hooks/plan_tree_walker.c.o\u001b[0m\n",
            "[ 85%] \u001b[32mBuilding C object CMakeFiles/lantern.dir/src/hooks/post_parse.c.o\u001b[0m\n",
            "[ 90%] \u001b[32mBuilding C object CMakeFiles/lantern.dir/src/hooks/utils.c.o\u001b[0m\n",
            "[ 95%] \u001b[32m\u001b[1mLinking C shared module lantern.so\u001b[0m\n",
            "[ 95%] Built target lantern\n",
            "[100%] \u001b[34m\u001b[1mCopying lantern.sql into a versioned filename\u001b[0m\n",
            "[100%] Built target phony_always_runs\n",
            "\u001b[36mInstall the project...\u001b[0m\n",
            "-- Install configuration: \"\"\n",
            "-- Installing: /usr/lib/postgresql/14/lib/lantern.so\n",
            "-- Set runtime path of \"/usr/lib/postgresql/14/lib/lantern.so\" to \"\"\n",
            "-- Installing: /usr/share/postgresql/14/extension/lantern.control\n",
            "-- Installing: /usr/share/postgresql/14/extension/lantern--0.0.4.sql\n",
            "-- Installing: /usr/share/postgresql/14/extension/lantern--0.0.4--latest.sql\n"
          ]
        }
      ],
      "source": [
        "!git clone --recursive https://github.com/lanterndata/lantern.git\n",
        "%cd lantern\n",
        "!mkdir build\n",
        "%cd build\n",
        "!pwd\n",
        "!cmake ..\n",
        "!make install"
      ]
    },
    {
      "cell_type": "code",
      "execution_count": 21,
      "metadata": {
        "id": "rOArR4T--aFe"
      },
      "outputs": [],
      "source": [
        "!pip install -qU \\\n",
        "  datasets==2.12.0 \\\n",
        "  sentence-transformers==2.2.2"
      ]
    },
    {
      "cell_type": "code",
      "execution_count": 22,
      "metadata": {
        "id": "P8j1GGuxMpnp"
      },
      "outputs": [],
      "source": [
        "import re\n",
        "import requests\n",
        "import xml.etree.ElementTree as ET\n",
        "\n",
        "def get_pmc_paper(pmcid):\n",
        "    url = f'https://www.ebi.ac.uk/europepmc/webservices/rest/{pmcid}/fullTextXML'\n",
        "    req = requests.get(url)\n",
        "    res = req.text\n",
        "    return res\n",
        "\n",
        "def get_sentence_from_text(text):\n",
        "    return text.split(\".\")"
      ]
    },
    {
      "cell_type": "code",
      "execution_count": 23,
      "metadata": {
        "colab": {
          "base_uri": "https://localhost:8080/"
        },
        "id": "pd6nvmRgM7Ck",
        "outputId": "1e3b73e0-9885-46c4-f227-83ae0a281e48"
      },
      "outputs": [
        {
          "data": {
            "text/plain": [
              "SentenceTransformer(\n",
              "  (0): Transformer({'max_seq_length': 256, 'do_lower_case': False}) with Transformer model: BertModel \n",
              "  (1): Pooling({'word_embedding_dimension': 384, 'pooling_mode_cls_token': False, 'pooling_mode_mean_tokens': True, 'pooling_mode_max_tokens': False, 'pooling_mode_mean_sqrt_len_tokens': False})\n",
              "  (2): Normalize()\n",
              ")"
            ]
          },
          "execution_count": 23,
          "metadata": {},
          "output_type": "execute_result"
        }
      ],
      "source": [
        "from sentence_transformers import SentenceTransformer\n",
        "import torch\n",
        "\n",
        "device = 'cuda' if torch.cuda.is_available() else 'cpu'\n",
        "if device != 'cuda':\n",
        "    print(f\"You are using {device}. This is much slower than using \"\n",
        "          \"a CUDA-enabled GPU. If on Colab you can change this by \"\n",
        "          \"clicking Runtime > Change runtime type > GPU.\")\n",
        "\n",
        "model = SentenceTransformer('all-MiniLM-L6-v2', device=device)\n",
        "model"
      ]
    },
    {
      "cell_type": "code",
      "execution_count": 24,
      "metadata": {
        "id": "Ez6SzN7kNNTn"
      },
      "outputs": [],
      "source": [
        "\n",
        "import psycopg2\n",
        "\n",
        "# We use the dbname, user, and password that we specified above\n",
        "conn = psycopg2.connect(\n",
        "    dbname=\"testdb\",\n",
        "    user=\"postgres\",\n",
        "    password=\"postgres\",\n",
        "    host=\"localhost\",\n",
        "    port=\"5432\" # default port for Postgres\n",
        ")\n",
        "\n",
        "# Get a new cursor\n",
        "cursor = conn.cursor()\n",
        "\n",
        "# Execute the query to load the Lantern extension in\n",
        "cursor.execute(\"CREATE EXTENSION IF NOT EXISTS lantern;\")\n",
        "\n",
        "conn.commit()\n",
        "cursor.close()"
      ]
    },
    {
      "cell_type": "code",
      "execution_count": 25,
      "metadata": {
        "id": "pZN_Oxo2V_Hx"
      },
      "outputs": [],
      "source": [
        "\n",
        "# Create the table\n",
        "cursor = conn.cursor()\n",
        "\n",
        "create_table_query = \"CREATE TABLE fragments (id serial PRIMARY key, content text, vector real[]);\"\n",
        "\n",
        "cursor.execute(create_table_query)\n",
        "\n",
        "conn.commit()\n",
        "cursor.close()"
      ]
    },
    {
      "cell_type": "code",
      "execution_count": 26,
      "metadata": {
        "id": "hSGW25yGWD5E"
      },
      "outputs": [],
      "source": [
        "## Write to file\n",
        "# pmcid = 'PMC9935389'\n",
        "pmcid = 'PMC10081221'\n",
        "text = get_pmc_paper(pmcid)\n",
        "sentences = get_sentence_from_text(text)"
      ]
    },
    {
      "cell_type": "code",
      "execution_count": 27,
      "metadata": {
        "colab": {
          "base_uri": "https://localhost:8080/",
          "height": 49,
          "referenced_widgets": [
            "4347d70444e94e309e1dc028d8e52c4d",
            "b0f8d6a54a054a1f9fb520f2038d5ab8",
            "4d2087d6b9fc46cabceb8b72464fdd08",
            "d401790bb2004cdcbee96c136acd27b7",
            "4793cea2c9bf4a349b87f81fc6ae52b7",
            "ee99c52c98724f93ba702317c2b8434b",
            "10910e7cb85c4228818aedd94591840e",
            "d077a98f0677440692f1f4e0fe69bbe1",
            "6472fe98a19645bba60fc12e813437f5",
            "ca34daeb39f0484a8e9a6255f1a997d0",
            "300c4f6c0dd647daa848c7bdcebe8ec0"
          ]
        },
        "id": "i6Vogs3KWD95",
        "outputId": "27b9c8ec-11ff-49af-df2b-a39e7eee36f7"
      },
      "outputs": [
        {
          "data": {
            "application/vnd.jupyter.widget-view+json": {
              "model_id": "4347d70444e94e309e1dc028d8e52c4d",
              "version_major": 2,
              "version_minor": 0
            },
            "text/plain": [
              "  0%|          | 0/938 [00:00<?, ?it/s]"
            ]
          },
          "metadata": {},
          "output_type": "display_data"
        }
      ],
      "source": [
        "\n",
        "from tqdm.auto import tqdm\n",
        "\n",
        "cursor = conn.cursor()\n",
        "\n",
        "for i in tqdm(range(0, len(sentences))):\n",
        "    content = sentences[i]\n",
        "\n",
        "    # Create embedding for the question\n",
        "    vector = [float(x) for x in model.encode(sentences[i])]\n",
        "\n",
        "    # Insert the content of the question as well as the embedding into our db\n",
        "    cursor.execute(\"INSERT INTO fragments (content, vector) VALUES (%s, %s);\", (content, vector))\n",
        "\n",
        "conn.commit()\n",
        "cursor.close()\n"
      ]
    },
    {
      "cell_type": "code",
      "execution_count": 28,
      "metadata": {
        "id": "KLB4EI-jWbqi"
      },
      "outputs": [],
      "source": [
        "\n",
        "cursor = conn.cursor()\n",
        "\n",
        "cursor.execute(\"CREATE INDEX ON fragments USING hnsw (vector dist_cos_ops) WITH (dim=384);\")\n",
        "\n",
        "conn.commit()\n",
        "cursor.close()\n"
      ]
    },
    {
      "cell_type": "code",
      "execution_count": 29,
      "metadata": {
        "colab": {
          "base_uri": "https://localhost:8080/"
        },
        "id": "t0ClfmbsXdsj",
        "outputId": "8d8a3b59-dba9-4672-df0a-1ef64804df8f"
      },
      "outputs": [
        {
          "name": "stdout",
          "output_type": "stream",
          "text": [
            "(1, '<!DOCTYPE article PUBLIC \"-//NLM//DTD JATS (Z39', [-0.10038493, 0.074392885, -0.010277012, 0.03291725, 0.06306493, -0.00015471199, -0.0032982235, 0.08994667, 0.04761151, 0.022519236, 0.06836179, 0.06972122, 0.04632185, 0.010354124, 0.01586501, -0.0033510588, -0.07219918, 0.02590406, 0.023794778, 0.011029444, -0.0017973067, 0.12902358, 0.07414243, -0.00579261, 0.033352446, 0.039338063, -0.032031316, -0.03647587, 0.040215693, -0.03105971, -0.0213532, 0.06690294, 0.016746547, 0.039464366, 0.031025302, -0.018622361, 0.06215862, -0.051095854, 0.024625102, 0.05517938, 0.0358864, -0.0035000104, -0.017162679, -0.030135475, -0.0003620154, 0.02771113, -0.08590952, -0.048629884, -0.10256854, 0.08413096, -0.07823631, -0.018038584, 0.057737686, 0.012949463, 0.05738016, -0.016432116, -0.015333189, 0.044870086, -0.04882088, -0.011113188, 0.019751418, 0.0507649, -0.120700456, 0.033393655, 0.057415105, -0.0036551345, 0.023633579, 0.018545281, -0.044210013, -0.039641812, -0.029899692, -0.019151194, -0.017309632, 0.0065940144, -0.056563765, -0.02392277, 0.024633786, -0.038069893, 0.010193523, -0.07611332, 0.04640336, 0.048566293, 0.092226855, 0.0114136385, 0.015133206, 0.06990084, 0.0014897325, -0.010926085, 0.090610124, 0.10470905, -0.025257964, -0.07126921, -0.0029762185, 0.06773224, -0.14898819, -0.016755195, 0.048969265, 0.043604035, 0.00011322459, 0.09666743, 0.07687201, 0.07487136, 0.07559663, 0.012644929, -0.08543689, -0.08099234, 0.0029605073, -0.008258459, -0.02039666, 0.00860946, -0.021868758, -0.029080413, -0.067600265, -0.07757552, -0.023644142, -0.074615926, -0.0084484685, -0.054460805, 0.050922364, -0.042773955, -0.025265785, -0.014190456, -0.033998266, 0.012150286, 0.0009092119, 0.023011254, -0.018555865, -1.2617505e-33, 0.065793864, 0.017155603, -0.04365577, 0.08924854, -0.058504224, -0.0005143306, -0.037317894, -0.031058557, -0.063498996, -0.043272648, -0.016057426, -0.07139751, -0.03621546, -0.016723199, -0.048010867, -0.023451533, -0.086947985, -0.022047555, -0.054452684, -0.0010229469, 0.06102418, 0.050450545, -0.03190681, 0.010024077, -0.02857522, 0.06019458, 0.027342692, -0.07127928, -0.046440102, 0.05549322, 0.039379716, 0.0019530981, -0.016880348, -0.019543981, 0.044438716, 0.047933538, -0.060567625, -0.012598, -0.045925103, -0.10960738, -0.00831078, -0.024158517, -0.028731668, 0.039846476, 0.061083924, 0.038120095, -0.03517434, -0.011192613, 0.037236314, -0.0036329182, -0.04311719, 0.092511244, -0.04253805, -0.023687381, 0.095233336, 0.05692478, 0.013201677, 0.07542968, -0.0080360845, 0.059438515, 0.0446842, 0.033307258, 0.035731394, 0.014641443, 0.03196695, 0.017566836, -0.117821224, -0.06797649, 0.036682587, 0.0006765341, 0.030499918, -0.032299057, 0.0654869, 0.04056838, 0.0046597878, -0.048899088, 0.01478112, -0.018768366, 0.043822862, -0.05263614, -0.033500038, -0.103789784, 0.0030783461, -0.032190315, 0.033589665, -0.06633223, -0.023217175, -0.03279767, 0.023695625, 0.06841379, 0.09198465, 0.03503183, -0.051064115, -0.05601762, -0.048361063, -7.057928e-35, -0.04295529, 0.06494976, -0.12767224, 0.0030076716, -0.11173756, -0.008213397, -0.050573908, 0.10232689, 0.024938844, 0.01230606, 0.090398565, -0.019122887, -0.0034863027, 0.0042751003, -0.0065411935, -0.010845015, 0.029971216, -0.046591118, -0.078976326, 0.07304041, 0.018857237, 0.00223332, -0.027758384, 0.106144145, 0.03854121, 0.0132637415, 0.04688228, 0.018428225, -0.039497115, 0.009070708, -0.0065184026, -0.0059722397, -0.049828988, -0.03039761, -0.026025342, -0.04877574, 0.07093661, 0.03641427, -0.05256842, -0.031746652, -0.01372154, -0.015572097, -0.022842137, -0.023345571, -0.03918828, 0.024121352, -0.04819914, -0.050592326, 0.06203528, -0.025445651, 0.019033171, -0.06529924, 0.096853174, -0.053671785, -0.075807415, -0.006847689, 0.008505979, -0.04829458, -0.045627806, 0.04363246, 0.054912884, 0.045685273, -0.04665548, -0.021452975, 0.02122268, -0.18251477, -0.01261117, 0.025794797, -0.024837311, -0.031025054, 0.03437981, 0.044713885, 0.023650272, -0.05525327, 0.054062415, -0.10614555, 0.036796372, 0.045127515, -0.0057725864, -0.059470057, 0.06023277, 0.072944984, -0.030911075, 0.025129259, 0.03918854, -0.029496675, -0.019945435, -0.027045852, -0.06658097, 0.03773607, -0.041151326, 0.057794966, -0.032653768, 0.1165502, -0.017623847, -2.50529e-08, -0.044679344, -0.11880264, -0.101786986, -0.047219254, -0.008433181, -0.03454279, -0.040093485, -0.034094036, -0.02751225, -0.0071756076, 0.053202346, 0.11107314, -0.039651353, 0.03797642, 0.040942684, -0.058294557, -0.060683984, 0.0023593758, -0.09406556, -0.023875829, 0.0476799, -0.018761035, 0.032112863, 0.02836572, 0.06157851, 0.060509756, -0.044656694, 0.05739807, 0.06321295, -0.0654256, -0.027942909, 0.11980792, -0.03584355, 0.0058236104, -0.016067049, 0.06714552, 0.06531898, 0.0027342574, -0.07105235, 0.025156898, -0.019877916, -0.06200609, -0.061760854, 0.044296224, 0.029621841, 0.029229954, -0.037862282, -0.0003368302, 0.005447739, -0.027105855, -0.026027324, -0.024302239, 0.09886605, 0.037403505, -0.06286217, 0.025562078, 0.08833138, -0.014034521, 0.005417542, -0.03743553, 0.054584038, 0.06973212, 0.09034639, 0.025003133])\n"
          ]
        }
      ],
      "source": [
        "cursor = conn.cursor()\n",
        "\n",
        "cursor.execute(\"SELECT * FROM fragments;\")\n",
        "print(cursor.fetchone())\n",
        "\n",
        "conn.commit()\n",
        "cursor.close()"
      ]
    },
    {
      "cell_type": "code",
      "execution_count": 30,
      "metadata": {
        "id": "4PdD83ZBYnp4"
      },
      "outputs": [],
      "source": [
        "!sudo -u postgres pg_dump testdb > out.sql"
      ]
    }
  ],
  "metadata": {
    "accelerator": "GPU",
    "colab": {
      "gpuType": "T4",
      "provenance": []
    },
    "kernelspec": {
      "display_name": "Python 3",
      "name": "python3"
    },
    "language_info": {
      "name": "python"
    },
    "widgets": {
      "application/vnd.jupyter.widget-state+json": {
        "10910e7cb85c4228818aedd94591840e": {
          "model_module": "@jupyter-widgets/controls",
          "model_module_version": "1.5.0",
          "model_name": "DescriptionStyleModel",
          "state": {
            "_model_module": "@jupyter-widgets/controls",
            "_model_module_version": "1.5.0",
            "_model_name": "DescriptionStyleModel",
            "_view_count": null,
            "_view_module": "@jupyter-widgets/base",
            "_view_module_version": "1.2.0",
            "_view_name": "StyleView",
            "description_width": ""
          }
        },
        "300c4f6c0dd647daa848c7bdcebe8ec0": {
          "model_module": "@jupyter-widgets/controls",
          "model_module_version": "1.5.0",
          "model_name": "DescriptionStyleModel",
          "state": {
            "_model_module": "@jupyter-widgets/controls",
            "_model_module_version": "1.5.0",
            "_model_name": "DescriptionStyleModel",
            "_view_count": null,
            "_view_module": "@jupyter-widgets/base",
            "_view_module_version": "1.2.0",
            "_view_name": "StyleView",
            "description_width": ""
          }
        },
        "4347d70444e94e309e1dc028d8e52c4d": {
          "model_module": "@jupyter-widgets/controls",
          "model_module_version": "1.5.0",
          "model_name": "HBoxModel",
          "state": {
            "_dom_classes": [],
            "_model_module": "@jupyter-widgets/controls",
            "_model_module_version": "1.5.0",
            "_model_name": "HBoxModel",
            "_view_count": null,
            "_view_module": "@jupyter-widgets/controls",
            "_view_module_version": "1.5.0",
            "_view_name": "HBoxView",
            "box_style": "",
            "children": [
              "IPY_MODEL_b0f8d6a54a054a1f9fb520f2038d5ab8",
              "IPY_MODEL_4d2087d6b9fc46cabceb8b72464fdd08",
              "IPY_MODEL_d401790bb2004cdcbee96c136acd27b7"
            ],
            "layout": "IPY_MODEL_4793cea2c9bf4a349b87f81fc6ae52b7"
          }
        },
        "4793cea2c9bf4a349b87f81fc6ae52b7": {
          "model_module": "@jupyter-widgets/base",
          "model_module_version": "1.2.0",
          "model_name": "LayoutModel",
          "state": {
            "_model_module": "@jupyter-widgets/base",
            "_model_module_version": "1.2.0",
            "_model_name": "LayoutModel",
            "_view_count": null,
            "_view_module": "@jupyter-widgets/base",
            "_view_module_version": "1.2.0",
            "_view_name": "LayoutView",
            "align_content": null,
            "align_items": null,
            "align_self": null,
            "border": null,
            "bottom": null,
            "display": null,
            "flex": null,
            "flex_flow": null,
            "grid_area": null,
            "grid_auto_columns": null,
            "grid_auto_flow": null,
            "grid_auto_rows": null,
            "grid_column": null,
            "grid_gap": null,
            "grid_row": null,
            "grid_template_areas": null,
            "grid_template_columns": null,
            "grid_template_rows": null,
            "height": null,
            "justify_content": null,
            "justify_items": null,
            "left": null,
            "margin": null,
            "max_height": null,
            "max_width": null,
            "min_height": null,
            "min_width": null,
            "object_fit": null,
            "object_position": null,
            "order": null,
            "overflow": null,
            "overflow_x": null,
            "overflow_y": null,
            "padding": null,
            "right": null,
            "top": null,
            "visibility": null,
            "width": null
          }
        },
        "4d2087d6b9fc46cabceb8b72464fdd08": {
          "model_module": "@jupyter-widgets/controls",
          "model_module_version": "1.5.0",
          "model_name": "FloatProgressModel",
          "state": {
            "_dom_classes": [],
            "_model_module": "@jupyter-widgets/controls",
            "_model_module_version": "1.5.0",
            "_model_name": "FloatProgressModel",
            "_view_count": null,
            "_view_module": "@jupyter-widgets/controls",
            "_view_module_version": "1.5.0",
            "_view_name": "ProgressView",
            "bar_style": "success",
            "description": "",
            "description_tooltip": null,
            "layout": "IPY_MODEL_d077a98f0677440692f1f4e0fe69bbe1",
            "max": 938,
            "min": 0,
            "orientation": "horizontal",
            "style": "IPY_MODEL_6472fe98a19645bba60fc12e813437f5",
            "value": 938
          }
        },
        "6472fe98a19645bba60fc12e813437f5": {
          "model_module": "@jupyter-widgets/controls",
          "model_module_version": "1.5.0",
          "model_name": "ProgressStyleModel",
          "state": {
            "_model_module": "@jupyter-widgets/controls",
            "_model_module_version": "1.5.0",
            "_model_name": "ProgressStyleModel",
            "_view_count": null,
            "_view_module": "@jupyter-widgets/base",
            "_view_module_version": "1.2.0",
            "_view_name": "StyleView",
            "bar_color": null,
            "description_width": ""
          }
        },
        "b0f8d6a54a054a1f9fb520f2038d5ab8": {
          "model_module": "@jupyter-widgets/controls",
          "model_module_version": "1.5.0",
          "model_name": "HTMLModel",
          "state": {
            "_dom_classes": [],
            "_model_module": "@jupyter-widgets/controls",
            "_model_module_version": "1.5.0",
            "_model_name": "HTMLModel",
            "_view_count": null,
            "_view_module": "@jupyter-widgets/controls",
            "_view_module_version": "1.5.0",
            "_view_name": "HTMLView",
            "description": "",
            "description_tooltip": null,
            "layout": "IPY_MODEL_ee99c52c98724f93ba702317c2b8434b",
            "placeholder": "​",
            "style": "IPY_MODEL_10910e7cb85c4228818aedd94591840e",
            "value": "100%"
          }
        },
        "ca34daeb39f0484a8e9a6255f1a997d0": {
          "model_module": "@jupyter-widgets/base",
          "model_module_version": "1.2.0",
          "model_name": "LayoutModel",
          "state": {
            "_model_module": "@jupyter-widgets/base",
            "_model_module_version": "1.2.0",
            "_model_name": "LayoutModel",
            "_view_count": null,
            "_view_module": "@jupyter-widgets/base",
            "_view_module_version": "1.2.0",
            "_view_name": "LayoutView",
            "align_content": null,
            "align_items": null,
            "align_self": null,
            "border": null,
            "bottom": null,
            "display": null,
            "flex": null,
            "flex_flow": null,
            "grid_area": null,
            "grid_auto_columns": null,
            "grid_auto_flow": null,
            "grid_auto_rows": null,
            "grid_column": null,
            "grid_gap": null,
            "grid_row": null,
            "grid_template_areas": null,
            "grid_template_columns": null,
            "grid_template_rows": null,
            "height": null,
            "justify_content": null,
            "justify_items": null,
            "left": null,
            "margin": null,
            "max_height": null,
            "max_width": null,
            "min_height": null,
            "min_width": null,
            "object_fit": null,
            "object_position": null,
            "order": null,
            "overflow": null,
            "overflow_x": null,
            "overflow_y": null,
            "padding": null,
            "right": null,
            "top": null,
            "visibility": null,
            "width": null
          }
        },
        "d077a98f0677440692f1f4e0fe69bbe1": {
          "model_module": "@jupyter-widgets/base",
          "model_module_version": "1.2.0",
          "model_name": "LayoutModel",
          "state": {
            "_model_module": "@jupyter-widgets/base",
            "_model_module_version": "1.2.0",
            "_model_name": "LayoutModel",
            "_view_count": null,
            "_view_module": "@jupyter-widgets/base",
            "_view_module_version": "1.2.0",
            "_view_name": "LayoutView",
            "align_content": null,
            "align_items": null,
            "align_self": null,
            "border": null,
            "bottom": null,
            "display": null,
            "flex": null,
            "flex_flow": null,
            "grid_area": null,
            "grid_auto_columns": null,
            "grid_auto_flow": null,
            "grid_auto_rows": null,
            "grid_column": null,
            "grid_gap": null,
            "grid_row": null,
            "grid_template_areas": null,
            "grid_template_columns": null,
            "grid_template_rows": null,
            "height": null,
            "justify_content": null,
            "justify_items": null,
            "left": null,
            "margin": null,
            "max_height": null,
            "max_width": null,
            "min_height": null,
            "min_width": null,
            "object_fit": null,
            "object_position": null,
            "order": null,
            "overflow": null,
            "overflow_x": null,
            "overflow_y": null,
            "padding": null,
            "right": null,
            "top": null,
            "visibility": null,
            "width": null
          }
        },
        "d401790bb2004cdcbee96c136acd27b7": {
          "model_module": "@jupyter-widgets/controls",
          "model_module_version": "1.5.0",
          "model_name": "HTMLModel",
          "state": {
            "_dom_classes": [],
            "_model_module": "@jupyter-widgets/controls",
            "_model_module_version": "1.5.0",
            "_model_name": "HTMLModel",
            "_view_count": null,
            "_view_module": "@jupyter-widgets/controls",
            "_view_module_version": "1.5.0",
            "_view_name": "HTMLView",
            "description": "",
            "description_tooltip": null,
            "layout": "IPY_MODEL_ca34daeb39f0484a8e9a6255f1a997d0",
            "placeholder": "​",
            "style": "IPY_MODEL_300c4f6c0dd647daa848c7bdcebe8ec0",
            "value": " 938/938 [00:15&lt;00:00, 95.35it/s]"
          }
        },
        "ee99c52c98724f93ba702317c2b8434b": {
          "model_module": "@jupyter-widgets/base",
          "model_module_version": "1.2.0",
          "model_name": "LayoutModel",
          "state": {
            "_model_module": "@jupyter-widgets/base",
            "_model_module_version": "1.2.0",
            "_model_name": "LayoutModel",
            "_view_count": null,
            "_view_module": "@jupyter-widgets/base",
            "_view_module_version": "1.2.0",
            "_view_name": "LayoutView",
            "align_content": null,
            "align_items": null,
            "align_self": null,
            "border": null,
            "bottom": null,
            "display": null,
            "flex": null,
            "flex_flow": null,
            "grid_area": null,
            "grid_auto_columns": null,
            "grid_auto_flow": null,
            "grid_auto_rows": null,
            "grid_column": null,
            "grid_gap": null,
            "grid_row": null,
            "grid_template_areas": null,
            "grid_template_columns": null,
            "grid_template_rows": null,
            "height": null,
            "justify_content": null,
            "justify_items": null,
            "left": null,
            "margin": null,
            "max_height": null,
            "max_width": null,
            "min_height": null,
            "min_width": null,
            "object_fit": null,
            "object_position": null,
            "order": null,
            "overflow": null,
            "overflow_x": null,
            "overflow_y": null,
            "padding": null,
            "right": null,
            "top": null,
            "visibility": null,
            "width": null
          }
        }
      }
    }
  },
  "nbformat": 4,
  "nbformat_minor": 0
}
